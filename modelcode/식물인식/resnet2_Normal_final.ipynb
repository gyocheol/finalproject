{
 "cells": [
  {
   "cell_type": "code",
   "execution_count": 1,
   "id": "164267de",
   "metadata": {},
   "outputs": [
    {
     "name": "stdout",
     "output_type": "stream",
     "text": [
      "--sys.version—\n",
      "3.8.13 | packaged by conda-forge | (default, Mar 25 2022, 06:05:16) \n",
      "[Clang 12.0.1 ]\n"
     ]
    }
   ],
   "source": [
    "import sys\n",
    "\n",
    "print(\"--sys.version—\")\n",
    "print(sys.version)"
   ]
  },
  {
   "cell_type": "markdown",
   "id": "b418965e",
   "metadata": {},
   "source": [
    "### 이미지 데이터 train, test, vaild 나누기 "
   ]
  },
  {
   "cell_type": "code",
   "execution_count": 2,
   "id": "37b69aca",
   "metadata": {},
   "outputs": [
    {
     "data": {
      "text/plain": [
       "'2.8.0'"
      ]
     },
     "execution_count": 2,
     "metadata": {},
     "output_type": "execute_result"
    }
   ],
   "source": [
    "import tensorflow as tf\n",
    "tf.__version__"
   ]
  },
  {
   "cell_type": "code",
   "execution_count": 3,
   "id": "43076878",
   "metadata": {},
   "outputs": [],
   "source": [
    "# 훈련 검증, 테스트 폴더로 이미지 복사 \n",
    "import os, shutil\n",
    "original_dataset_dir = './input_folders/'\n",
    "\n",
    "folder_list = []\n",
    "for path_ in os.listdir(original_dataset_dir):\n",
    "    if path_.startswith('.'):\n",
    "        pass\n",
    "    else:\n",
    "        path2 = original_dataset_dir + path_\n",
    "        folder_list.append(path_)\n",
    "        \n",
    "print(folder_list)\n",
    "\n",
    "plant_cnt = {}\n",
    "for path in folder_list:\n",
    "    plant_cnt[path] = len(os.listdir(original_dataset_dir+path))\n",
    "    \n",
    "print(plant_cnt)"
   ]
  },
  {
   "cell_type": "code",
   "execution_count": 4,
   "id": "561a5583",
   "metadata": {},
   "outputs": [],
   "source": [
    "base_dir = './datasets/' \n",
    "# os.mkdir(base_dir)\n",
    "base_dir = './datasets/Plant' # 소규모 데이터셋 저장할 디렉토리\n",
    "# os.mkdir(base_dir)"
   ]
  },
  {
   "cell_type": "code",
   "execution_count": 5,
   "id": "5c5b3379",
   "metadata": {
    "scrolled": true
   },
   "outputs": [],
   "source": [
    "# 이미지 데이터 이름 변경 (순서매기기)\n",
    "for path in folder_list:\n",
    "    i = 1\n",
    "    for imgPath in os.listdir(original_dataset_dir+path):\n",
    "        src = os.path.join(original_dataset_dir+path, imgPath)\n",
    "        dst_ = path + '_' + str(i) + '.png'\n",
    "        dst = os.path.join(original_dataset_dir+path, dst_)\n",
    "        \n",
    "        print(src)\n",
    "        print(dst)\n",
    "        print('-' * 40)\n",
    "        \n",
    "        os.rename(src, dst)\n",
    "        i += 1"
   ]
  },
  {
   "cell_type": "code",
   "execution_count": 6,
   "id": "a4b9e4a4",
   "metadata": {},
   "outputs": [],
   "source": [
    "import os\n",
    "train_dir = os.path.join(base_dir, 'train')\n",
    "valid_dir = os.path.join(base_dir, 'valid')\n",
    "test_dir = os.path.join(base_dir, 'test')\n",
    "\n",
    "# os.mkdir(train_dir)\n",
    "# os.mkdir(valid_dir)\n",
    "# os.mkdir(test_dir)"
   ]
  },
  {
   "cell_type": "code",
   "execution_count": 7,
   "id": "ac7de7ed",
   "metadata": {},
   "outputs": [],
   "source": [
    "data_list = [train_dir, valid_dir, test_dir]\n",
    "\n",
    "for dataset in data_list:\n",
    "    print('dataset : ',dataset)\n",
    "    for plant in plant_cnt:\n",
    "        filePath_ = os.path.join(dataset, plant)\n",
    "        os.mkdir(filePath_)\n",
    "\n",
    "        # 데이터 개수의 반틈 train 폴더에 복사\n",
    "        if dataset == data_list[0]:\n",
    "            cnt = int(int(plant_cnt[plant])/2)\n",
    "            fnames = ['{}_{}.png'.format(plant, i+1) for i in range(0,cnt)]\n",
    "            print(cnt)\n",
    "            print(plant,'- train_dir len :', len(fnames))\n",
    "        \n",
    "        elif dataset == data_list[1]:\n",
    "            cnt = int(int(plant_cnt[plant])/2)\n",
    "            cnt3 = int((int(plant_cnt[plant])/4)*3)\n",
    "            fnames = ['{}_{}.png'.format(plant, i+1) for i in range(cnt,cnt3)]\n",
    "            print(plant,'- valid_dir len :', len(fnames))\n",
    "#         print(\"fnames : \",fnames)\n",
    "        else :\n",
    "            cnt3 = int((int(plant_cnt[plant])/4)*3)\n",
    "            fnames = ['{}_{}.png'.format(plant, i+1) for i in range(cnt3,plant_cnt[plant])]\n",
    "            print(plant, '-test_dir len :', len(fnames))\n",
    "            \n",
    "        for fname in fnames:\n",
    "            src = os.path.join(original_dataset_dir,plant)\n",
    "            src2 = os.path.join(src,fname)\n",
    "            dst = os.path.join(filePath_,fname)\n",
    "#             print(src2)\n",
    "            print('dst :',dst)\n",
    "            shutil.copyfile(src2,dst)"
   ]
  },
  {
   "cell_type": "code",
   "execution_count": 8,
   "id": "5ffc570b",
   "metadata": {},
   "outputs": [],
   "source": [
    "# 안열리는 파일 삭제 \n",
    "import PIL, glob\n",
    "from PIL import Image\n",
    "from os import remove\n",
    "\n",
    "datalist = ['train', 'test', 'valid']\n",
    "\n",
    "for data in datalist : \n",
    "    imgs_ = glob.glob(f\"./datasets/Plant/{data}/*/*.png\")\n",
    "\n",
    "    for img in imgs_:\n",
    "        try:\n",
    "            img = PIL.Image.open(img)\n",
    "        except PIL.UnidentifiedImageError:\n",
    "            print(img)\n",
    "            remove(img)"
   ]
  },
  {
   "cell_type": "code",
   "execution_count": 9,
   "id": "1a8f5d66",
   "metadata": {},
   "outputs": [],
   "source": [
    "for plant in plant_cnt:\n",
    "    path_train = os.path.join('./datasets/Plant/train',plant)\n",
    "    print(plant)\n",
    "    print('훈련용 이미지 개수 : ', len(os.listdir(path_train)))\n",
    "\n",
    "    path_valid = os.path.join('./datasets/Plant/valid',plant)\n",
    "    print('valid 이미지 개수 : ', len(os.listdir(path_valid)))\n",
    "\n",
    "    path_test = os.path.join('./datasets/Plant/test',plant)\n",
    "    print('test 이미지 개수 : ', len(os.listdir(path_test)))\n",
    "    print('-' * 40)    "
   ]
  },
  {
   "cell_type": "markdown",
   "id": "ef6e432d",
   "metadata": {},
   "source": [
    "## 모델 구성 ResNet"
   ]
  },
  {
   "cell_type": "code",
   "execution_count": 10,
   "id": "ad9dafbb",
   "metadata": {},
   "outputs": [],
   "source": [
    "# conda install h5py"
   ]
  },
  {
   "cell_type": "code",
   "execution_count": 11,
   "id": "5b0de35a",
   "metadata": {},
   "outputs": [],
   "source": [
    "from tensorflow.keras.applications.resnet50 import ResNet50\n",
    "from tensorflow.keras.preprocessing import image\n",
    "from tensorflow.keras.applications.resnet50 import preprocess_input, decode_predictions\n",
    "import numpy as np\n",
    "\n",
    "from tensorflow import keras\n",
    "from tensorflow.keras import optimizers\n",
    "\n",
    "from tensorflow.keras import Input\n",
    "import tensorflow as tf\n",
    "from tensorflow.keras.layers import Dense, Flatten, MaxPooling2D\n",
    "from tensorflow.keras.applications.resnet50 import preprocess_input\n",
    "\n",
    "from tensorflow.keras.preprocessing.image import ImageDataGenerator\n",
    "\n",
    "import scipy\n",
    "import matplotlib.pyplot as plt"
   ]
  },
  {
   "cell_type": "code",
   "execution_count": 12,
   "id": "a12509e1",
   "metadata": {},
   "outputs": [],
   "source": [
    "# 입력 데이터 정규화를 위한 클래스 정의\n",
    "def forward(input):\n",
    "    mean = np.array([0.485, 0.456, 0.406])\n",
    "    std = np.array([0.229, 0.224, 0.225])\n",
    "    mean = mean.reshape(1, 1, 1, 3)\n",
    "    std = std.reshape(1, 1, 1, 3)\n",
    "    return (input - mean) / std"
   ]
  },
  {
   "cell_type": "code",
   "execution_count": 13,
   "id": "16db2ebc",
   "metadata": {},
   "outputs": [
    {
     "name": "stdout",
     "output_type": "stream",
     "text": [
      "Metal device set to: Apple M1\n"
     ]
    },
    {
     "name": "stderr",
     "output_type": "stream",
     "text": [
      "2022-05-18 09:42:40.650897: I tensorflow/core/common_runtime/pluggable_device/pluggable_device_factory.cc:305] Could not identify NUMA node of platform GPU ID 0, defaulting to 0. Your kernel may not have been built with NUMA support.\n",
      "2022-05-18 09:42:40.651268: I tensorflow/core/common_runtime/pluggable_device/pluggable_device_factory.cc:271] Created TensorFlow device (/job:localhost/replica:0/task:0/device:GPU:0 with 0 MB memory) -> physical PluggableDevice (device: 0, name: METAL, pci bus id: <undefined>)\n"
     ]
    },
    {
     "name": "stdout",
     "output_type": "stream",
     "text": [
      "Model: \"resnet50\"\n",
      "__________________________________________________________________________________________________\n",
      " Layer (type)                   Output Shape         Param #     Connected to                     \n",
      "==================================================================================================\n",
      " input_1 (InputLayer)           [(None, 224, 224, 3  0           []                               \n",
      "                                )]                                                                \n",
      "                                                                                                  \n",
      " conv1_pad (ZeroPadding2D)      (None, 230, 230, 3)  0           ['input_1[0][0]']                \n",
      "                                                                                                  \n",
      " conv1_conv (Conv2D)            (None, 112, 112, 64  9472        ['conv1_pad[0][0]']              \n",
      "                                )                                                                 \n",
      "                                                                                                  \n",
      " conv1_bn (BatchNormalization)  (None, 112, 112, 64  256         ['conv1_conv[0][0]']             \n",
      "                                )                                                                 \n",
      "                                                                                                  \n",
      " conv1_relu (Activation)        (None, 112, 112, 64  0           ['conv1_bn[0][0]']               \n",
      "                                )                                                                 \n",
      "                                                                                                  \n",
      " pool1_pad (ZeroPadding2D)      (None, 114, 114, 64  0           ['conv1_relu[0][0]']             \n",
      "                                )                                                                 \n",
      "                                                                                                  \n",
      " pool1_pool (MaxPooling2D)      (None, 56, 56, 64)   0           ['pool1_pad[0][0]']              \n",
      "                                                                                                  \n",
      " conv2_block1_1_conv (Conv2D)   (None, 56, 56, 64)   4160        ['pool1_pool[0][0]']             \n",
      "                                                                                                  \n",
      " conv2_block1_1_bn (BatchNormal  (None, 56, 56, 64)  256         ['conv2_block1_1_conv[0][0]']    \n",
      " ization)                                                                                         \n",
      "                                                                                                  \n",
      " conv2_block1_1_relu (Activatio  (None, 56, 56, 64)  0           ['conv2_block1_1_bn[0][0]']      \n",
      " n)                                                                                               \n",
      "                                                                                                  \n",
      " conv2_block1_2_conv (Conv2D)   (None, 56, 56, 64)   36928       ['conv2_block1_1_relu[0][0]']    \n",
      "                                                                                                  \n",
      " conv2_block1_2_bn (BatchNormal  (None, 56, 56, 64)  256         ['conv2_block1_2_conv[0][0]']    \n",
      " ization)                                                                                         \n",
      "                                                                                                  \n",
      " conv2_block1_2_relu (Activatio  (None, 56, 56, 64)  0           ['conv2_block1_2_bn[0][0]']      \n",
      " n)                                                                                               \n",
      "                                                                                                  \n",
      " conv2_block1_0_conv (Conv2D)   (None, 56, 56, 256)  16640       ['pool1_pool[0][0]']             \n",
      "                                                                                                  \n",
      " conv2_block1_3_conv (Conv2D)   (None, 56, 56, 256)  16640       ['conv2_block1_2_relu[0][0]']    \n",
      "                                                                                                  \n",
      " conv2_block1_0_bn (BatchNormal  (None, 56, 56, 256)  1024       ['conv2_block1_0_conv[0][0]']    \n",
      " ization)                                                                                         \n",
      "                                                                                                  \n",
      " conv2_block1_3_bn (BatchNormal  (None, 56, 56, 256)  1024       ['conv2_block1_3_conv[0][0]']    \n",
      " ization)                                                                                         \n",
      "                                                                                                  \n",
      " conv2_block1_add (Add)         (None, 56, 56, 256)  0           ['conv2_block1_0_bn[0][0]',      \n",
      "                                                                  'conv2_block1_3_bn[0][0]']      \n",
      "                                                                                                  \n",
      " conv2_block1_out (Activation)  (None, 56, 56, 256)  0           ['conv2_block1_add[0][0]']       \n",
      "                                                                                                  \n",
      " conv2_block2_1_conv (Conv2D)   (None, 56, 56, 64)   16448       ['conv2_block1_out[0][0]']       \n",
      "                                                                                                  \n",
      " conv2_block2_1_bn (BatchNormal  (None, 56, 56, 64)  256         ['conv2_block2_1_conv[0][0]']    \n",
      " ization)                                                                                         \n",
      "                                                                                                  \n",
      " conv2_block2_1_relu (Activatio  (None, 56, 56, 64)  0           ['conv2_block2_1_bn[0][0]']      \n",
      " n)                                                                                               \n",
      "                                                                                                  \n",
      " conv2_block2_2_conv (Conv2D)   (None, 56, 56, 64)   36928       ['conv2_block2_1_relu[0][0]']    \n",
      "                                                                                                  \n",
      " conv2_block2_2_bn (BatchNormal  (None, 56, 56, 64)  256         ['conv2_block2_2_conv[0][0]']    \n",
      " ization)                                                                                         \n",
      "                                                                                                  \n",
      " conv2_block2_2_relu (Activatio  (None, 56, 56, 64)  0           ['conv2_block2_2_bn[0][0]']      \n",
      " n)                                                                                               \n",
      "                                                                                                  \n",
      " conv2_block2_3_conv (Conv2D)   (None, 56, 56, 256)  16640       ['conv2_block2_2_relu[0][0]']    \n",
      "                                                                                                  \n",
      " conv2_block2_3_bn (BatchNormal  (None, 56, 56, 256)  1024       ['conv2_block2_3_conv[0][0]']    \n",
      " ization)                                                                                         \n",
      "                                                                                                  \n",
      " conv2_block2_add (Add)         (None, 56, 56, 256)  0           ['conv2_block1_out[0][0]',       \n",
      "                                                                  'conv2_block2_3_bn[0][0]']      \n",
      "                                                                                                  \n",
      " conv2_block2_out (Activation)  (None, 56, 56, 256)  0           ['conv2_block2_add[0][0]']       \n",
      "                                                                                                  \n",
      " conv2_block3_1_conv (Conv2D)   (None, 56, 56, 64)   16448       ['conv2_block2_out[0][0]']       \n",
      "                                                                                                  \n",
      " conv2_block3_1_bn (BatchNormal  (None, 56, 56, 64)  256         ['conv2_block3_1_conv[0][0]']    \n",
      " ization)                                                                                         \n"
     ]
    },
    {
     "name": "stdout",
     "output_type": "stream",
     "text": [
      "                                                                                                  \n",
      " conv2_block3_1_relu (Activatio  (None, 56, 56, 64)  0           ['conv2_block3_1_bn[0][0]']      \n",
      " n)                                                                                               \n",
      "                                                                                                  \n",
      " conv2_block3_2_conv (Conv2D)   (None, 56, 56, 64)   36928       ['conv2_block3_1_relu[0][0]']    \n",
      "                                                                                                  \n",
      " conv2_block3_2_bn (BatchNormal  (None, 56, 56, 64)  256         ['conv2_block3_2_conv[0][0]']    \n",
      " ization)                                                                                         \n",
      "                                                                                                  \n",
      " conv2_block3_2_relu (Activatio  (None, 56, 56, 64)  0           ['conv2_block3_2_bn[0][0]']      \n",
      " n)                                                                                               \n",
      "                                                                                                  \n",
      " conv2_block3_3_conv (Conv2D)   (None, 56, 56, 256)  16640       ['conv2_block3_2_relu[0][0]']    \n",
      "                                                                                                  \n",
      " conv2_block3_3_bn (BatchNormal  (None, 56, 56, 256)  1024       ['conv2_block3_3_conv[0][0]']    \n",
      " ization)                                                                                         \n",
      "                                                                                                  \n",
      " conv2_block3_add (Add)         (None, 56, 56, 256)  0           ['conv2_block2_out[0][0]',       \n",
      "                                                                  'conv2_block3_3_bn[0][0]']      \n",
      "                                                                                                  \n",
      " conv2_block3_out (Activation)  (None, 56, 56, 256)  0           ['conv2_block3_add[0][0]']       \n",
      "                                                                                                  \n",
      " conv3_block1_1_conv (Conv2D)   (None, 28, 28, 128)  32896       ['conv2_block3_out[0][0]']       \n",
      "                                                                                                  \n",
      " conv3_block1_1_bn (BatchNormal  (None, 28, 28, 128)  512        ['conv3_block1_1_conv[0][0]']    \n",
      " ization)                                                                                         \n",
      "                                                                                                  \n",
      " conv3_block1_1_relu (Activatio  (None, 28, 28, 128)  0          ['conv3_block1_1_bn[0][0]']      \n",
      " n)                                                                                               \n",
      "                                                                                                  \n",
      " conv3_block1_2_conv (Conv2D)   (None, 28, 28, 128)  147584      ['conv3_block1_1_relu[0][0]']    \n",
      "                                                                                                  \n",
      " conv3_block1_2_bn (BatchNormal  (None, 28, 28, 128)  512        ['conv3_block1_2_conv[0][0]']    \n",
      " ization)                                                                                         \n",
      "                                                                                                  \n",
      " conv3_block1_2_relu (Activatio  (None, 28, 28, 128)  0          ['conv3_block1_2_bn[0][0]']      \n",
      " n)                                                                                               \n",
      "                                                                                                  \n",
      " conv3_block1_0_conv (Conv2D)   (None, 28, 28, 512)  131584      ['conv2_block3_out[0][0]']       \n",
      "                                                                                                  \n",
      " conv3_block1_3_conv (Conv2D)   (None, 28, 28, 512)  66048       ['conv3_block1_2_relu[0][0]']    \n",
      "                                                                                                  \n",
      " conv3_block1_0_bn (BatchNormal  (None, 28, 28, 512)  2048       ['conv3_block1_0_conv[0][0]']    \n",
      " ization)                                                                                         \n",
      "                                                                                                  \n",
      " conv3_block1_3_bn (BatchNormal  (None, 28, 28, 512)  2048       ['conv3_block1_3_conv[0][0]']    \n",
      " ization)                                                                                         \n",
      "                                                                                                  \n",
      " conv3_block1_add (Add)         (None, 28, 28, 512)  0           ['conv3_block1_0_bn[0][0]',      \n",
      "                                                                  'conv3_block1_3_bn[0][0]']      \n",
      "                                                                                                  \n",
      " conv3_block1_out (Activation)  (None, 28, 28, 512)  0           ['conv3_block1_add[0][0]']       \n",
      "                                                                                                  \n",
      " conv3_block2_1_conv (Conv2D)   (None, 28, 28, 128)  65664       ['conv3_block1_out[0][0]']       \n",
      "                                                                                                  \n",
      " conv3_block2_1_bn (BatchNormal  (None, 28, 28, 128)  512        ['conv3_block2_1_conv[0][0]']    \n",
      " ization)                                                                                         \n",
      "                                                                                                  \n",
      " conv3_block2_1_relu (Activatio  (None, 28, 28, 128)  0          ['conv3_block2_1_bn[0][0]']      \n",
      " n)                                                                                               \n",
      "                                                                                                  \n",
      " conv3_block2_2_conv (Conv2D)   (None, 28, 28, 128)  147584      ['conv3_block2_1_relu[0][0]']    \n",
      "                                                                                                  \n",
      " conv3_block2_2_bn (BatchNormal  (None, 28, 28, 128)  512        ['conv3_block2_2_conv[0][0]']    \n",
      " ization)                                                                                         \n",
      "                                                                                                  \n",
      " conv3_block2_2_relu (Activatio  (None, 28, 28, 128)  0          ['conv3_block2_2_bn[0][0]']      \n",
      " n)                                                                                               \n",
      "                                                                                                  \n",
      " conv3_block2_3_conv (Conv2D)   (None, 28, 28, 512)  66048       ['conv3_block2_2_relu[0][0]']    \n",
      "                                                                                                  \n",
      " conv3_block2_3_bn (BatchNormal  (None, 28, 28, 512)  2048       ['conv3_block2_3_conv[0][0]']    \n",
      " ization)                                                                                         \n",
      "                                                                                                  \n",
      " conv3_block2_add (Add)         (None, 28, 28, 512)  0           ['conv3_block1_out[0][0]',       \n",
      "                                                                  'conv3_block2_3_bn[0][0]']      \n",
      "                                                                                                  \n",
      " conv3_block2_out (Activation)  (None, 28, 28, 512)  0           ['conv3_block2_add[0][0]']       \n",
      "                                                                                                  \n",
      " conv3_block3_1_conv (Conv2D)   (None, 28, 28, 128)  65664       ['conv3_block2_out[0][0]']       \n",
      "                                                                                                  \n",
      " conv3_block3_1_bn (BatchNormal  (None, 28, 28, 128)  512        ['conv3_block3_1_conv[0][0]']    \n",
      " ization)                                                                                         \n"
     ]
    },
    {
     "name": "stdout",
     "output_type": "stream",
     "text": [
      "                                                                                                  \n",
      " conv3_block3_1_relu (Activatio  (None, 28, 28, 128)  0          ['conv3_block3_1_bn[0][0]']      \n",
      " n)                                                                                               \n",
      "                                                                                                  \n",
      " conv3_block3_2_conv (Conv2D)   (None, 28, 28, 128)  147584      ['conv3_block3_1_relu[0][0]']    \n",
      "                                                                                                  \n",
      " conv3_block3_2_bn (BatchNormal  (None, 28, 28, 128)  512        ['conv3_block3_2_conv[0][0]']    \n",
      " ization)                                                                                         \n",
      "                                                                                                  \n",
      " conv3_block3_2_relu (Activatio  (None, 28, 28, 128)  0          ['conv3_block3_2_bn[0][0]']      \n",
      " n)                                                                                               \n",
      "                                                                                                  \n",
      " conv3_block3_3_conv (Conv2D)   (None, 28, 28, 512)  66048       ['conv3_block3_2_relu[0][0]']    \n",
      "                                                                                                  \n",
      " conv3_block3_3_bn (BatchNormal  (None, 28, 28, 512)  2048       ['conv3_block3_3_conv[0][0]']    \n",
      " ization)                                                                                         \n",
      "                                                                                                  \n",
      " conv3_block3_add (Add)         (None, 28, 28, 512)  0           ['conv3_block2_out[0][0]',       \n",
      "                                                                  'conv3_block3_3_bn[0][0]']      \n",
      "                                                                                                  \n",
      " conv3_block3_out (Activation)  (None, 28, 28, 512)  0           ['conv3_block3_add[0][0]']       \n",
      "                                                                                                  \n",
      " conv3_block4_1_conv (Conv2D)   (None, 28, 28, 128)  65664       ['conv3_block3_out[0][0]']       \n",
      "                                                                                                  \n",
      " conv3_block4_1_bn (BatchNormal  (None, 28, 28, 128)  512        ['conv3_block4_1_conv[0][0]']    \n",
      " ization)                                                                                         \n",
      "                                                                                                  \n",
      " conv3_block4_1_relu (Activatio  (None, 28, 28, 128)  0          ['conv3_block4_1_bn[0][0]']      \n",
      " n)                                                                                               \n",
      "                                                                                                  \n",
      " conv3_block4_2_conv (Conv2D)   (None, 28, 28, 128)  147584      ['conv3_block4_1_relu[0][0]']    \n",
      "                                                                                                  \n",
      " conv3_block4_2_bn (BatchNormal  (None, 28, 28, 128)  512        ['conv3_block4_2_conv[0][0]']    \n",
      " ization)                                                                                         \n",
      "                                                                                                  \n",
      " conv3_block4_2_relu (Activatio  (None, 28, 28, 128)  0          ['conv3_block4_2_bn[0][0]']      \n",
      " n)                                                                                               \n",
      "                                                                                                  \n",
      " conv3_block4_3_conv (Conv2D)   (None, 28, 28, 512)  66048       ['conv3_block4_2_relu[0][0]']    \n",
      "                                                                                                  \n",
      " conv3_block4_3_bn (BatchNormal  (None, 28, 28, 512)  2048       ['conv3_block4_3_conv[0][0]']    \n",
      " ization)                                                                                         \n",
      "                                                                                                  \n",
      " conv3_block4_add (Add)         (None, 28, 28, 512)  0           ['conv3_block3_out[0][0]',       \n",
      "                                                                  'conv3_block4_3_bn[0][0]']      \n",
      "                                                                                                  \n",
      " conv3_block4_out (Activation)  (None, 28, 28, 512)  0           ['conv3_block4_add[0][0]']       \n",
      "                                                                                                  \n",
      " conv4_block1_1_conv (Conv2D)   (None, 14, 14, 256)  131328      ['conv3_block4_out[0][0]']       \n",
      "                                                                                                  \n",
      " conv4_block1_1_bn (BatchNormal  (None, 14, 14, 256)  1024       ['conv4_block1_1_conv[0][0]']    \n",
      " ization)                                                                                         \n",
      "                                                                                                  \n",
      " conv4_block1_1_relu (Activatio  (None, 14, 14, 256)  0          ['conv4_block1_1_bn[0][0]']      \n",
      " n)                                                                                               \n",
      "                                                                                                  \n",
      " conv4_block1_2_conv (Conv2D)   (None, 14, 14, 256)  590080      ['conv4_block1_1_relu[0][0]']    \n",
      "                                                                                                  \n",
      " conv4_block1_2_bn (BatchNormal  (None, 14, 14, 256)  1024       ['conv4_block1_2_conv[0][0]']    \n",
      " ization)                                                                                         \n",
      "                                                                                                  \n",
      " conv4_block1_2_relu (Activatio  (None, 14, 14, 256)  0          ['conv4_block1_2_bn[0][0]']      \n",
      " n)                                                                                               \n",
      "                                                                                                  \n",
      " conv4_block1_0_conv (Conv2D)   (None, 14, 14, 1024  525312      ['conv3_block4_out[0][0]']       \n",
      "                                )                                                                 \n",
      "                                                                                                  \n",
      " conv4_block1_3_conv (Conv2D)   (None, 14, 14, 1024  263168      ['conv4_block1_2_relu[0][0]']    \n",
      "                                )                                                                 \n",
      "                                                                                                  \n",
      " conv4_block1_0_bn (BatchNormal  (None, 14, 14, 1024  4096       ['conv4_block1_0_conv[0][0]']    \n",
      " ization)                       )                                                                 \n",
      "                                                                                                  \n",
      " conv4_block1_3_bn (BatchNormal  (None, 14, 14, 1024  4096       ['conv4_block1_3_conv[0][0]']    \n",
      " ization)                       )                                                                 \n",
      "                                                                                                  \n",
      " conv4_block1_add (Add)         (None, 14, 14, 1024  0           ['conv4_block1_0_bn[0][0]',      \n",
      "                                )                                 'conv4_block1_3_bn[0][0]']      \n",
      "                                                                                                  \n",
      " conv4_block1_out (Activation)  (None, 14, 14, 1024  0           ['conv4_block1_add[0][0]']       \n",
      "                                )                                                                 \n",
      "                                                                                                  \n",
      " conv4_block2_1_conv (Conv2D)   (None, 14, 14, 256)  262400      ['conv4_block1_out[0][0]']       \n"
     ]
    },
    {
     "name": "stdout",
     "output_type": "stream",
     "text": [
      "                                                                                                  \n",
      " conv4_block2_1_bn (BatchNormal  (None, 14, 14, 256)  1024       ['conv4_block2_1_conv[0][0]']    \n",
      " ization)                                                                                         \n",
      "                                                                                                  \n",
      " conv4_block2_1_relu (Activatio  (None, 14, 14, 256)  0          ['conv4_block2_1_bn[0][0]']      \n",
      " n)                                                                                               \n",
      "                                                                                                  \n",
      " conv4_block2_2_conv (Conv2D)   (None, 14, 14, 256)  590080      ['conv4_block2_1_relu[0][0]']    \n",
      "                                                                                                  \n",
      " conv4_block2_2_bn (BatchNormal  (None, 14, 14, 256)  1024       ['conv4_block2_2_conv[0][0]']    \n",
      " ization)                                                                                         \n",
      "                                                                                                  \n",
      " conv4_block2_2_relu (Activatio  (None, 14, 14, 256)  0          ['conv4_block2_2_bn[0][0]']      \n",
      " n)                                                                                               \n",
      "                                                                                                  \n",
      " conv4_block2_3_conv (Conv2D)   (None, 14, 14, 1024  263168      ['conv4_block2_2_relu[0][0]']    \n",
      "                                )                                                                 \n",
      "                                                                                                  \n",
      " conv4_block2_3_bn (BatchNormal  (None, 14, 14, 1024  4096       ['conv4_block2_3_conv[0][0]']    \n",
      " ization)                       )                                                                 \n",
      "                                                                                                  \n",
      " conv4_block2_add (Add)         (None, 14, 14, 1024  0           ['conv4_block1_out[0][0]',       \n",
      "                                )                                 'conv4_block2_3_bn[0][0]']      \n",
      "                                                                                                  \n",
      " conv4_block2_out (Activation)  (None, 14, 14, 1024  0           ['conv4_block2_add[0][0]']       \n",
      "                                )                                                                 \n",
      "                                                                                                  \n",
      " conv4_block3_1_conv (Conv2D)   (None, 14, 14, 256)  262400      ['conv4_block2_out[0][0]']       \n",
      "                                                                                                  \n",
      " conv4_block3_1_bn (BatchNormal  (None, 14, 14, 256)  1024       ['conv4_block3_1_conv[0][0]']    \n",
      " ization)                                                                                         \n",
      "                                                                                                  \n",
      " conv4_block3_1_relu (Activatio  (None, 14, 14, 256)  0          ['conv4_block3_1_bn[0][0]']      \n",
      " n)                                                                                               \n",
      "                                                                                                  \n",
      " conv4_block3_2_conv (Conv2D)   (None, 14, 14, 256)  590080      ['conv4_block3_1_relu[0][0]']    \n",
      "                                                                                                  \n",
      " conv4_block3_2_bn (BatchNormal  (None, 14, 14, 256)  1024       ['conv4_block3_2_conv[0][0]']    \n",
      " ization)                                                                                         \n",
      "                                                                                                  \n",
      " conv4_block3_2_relu (Activatio  (None, 14, 14, 256)  0          ['conv4_block3_2_bn[0][0]']      \n",
      " n)                                                                                               \n",
      "                                                                                                  \n",
      " conv4_block3_3_conv (Conv2D)   (None, 14, 14, 1024  263168      ['conv4_block3_2_relu[0][0]']    \n",
      "                                )                                                                 \n",
      "                                                                                                  \n",
      " conv4_block3_3_bn (BatchNormal  (None, 14, 14, 1024  4096       ['conv4_block3_3_conv[0][0]']    \n",
      " ization)                       )                                                                 \n",
      "                                                                                                  \n",
      " conv4_block3_add (Add)         (None, 14, 14, 1024  0           ['conv4_block2_out[0][0]',       \n",
      "                                )                                 'conv4_block3_3_bn[0][0]']      \n",
      "                                                                                                  \n",
      " conv4_block3_out (Activation)  (None, 14, 14, 1024  0           ['conv4_block3_add[0][0]']       \n",
      "                                )                                                                 \n",
      "                                                                                                  \n",
      " conv4_block4_1_conv (Conv2D)   (None, 14, 14, 256)  262400      ['conv4_block3_out[0][0]']       \n",
      "                                                                                                  \n",
      " conv4_block4_1_bn (BatchNormal  (None, 14, 14, 256)  1024       ['conv4_block4_1_conv[0][0]']    \n",
      " ization)                                                                                         \n",
      "                                                                                                  \n",
      " conv4_block4_1_relu (Activatio  (None, 14, 14, 256)  0          ['conv4_block4_1_bn[0][0]']      \n",
      " n)                                                                                               \n",
      "                                                                                                  \n",
      " conv4_block4_2_conv (Conv2D)   (None, 14, 14, 256)  590080      ['conv4_block4_1_relu[0][0]']    \n",
      "                                                                                                  \n",
      " conv4_block4_2_bn (BatchNormal  (None, 14, 14, 256)  1024       ['conv4_block4_2_conv[0][0]']    \n",
      " ization)                                                                                         \n",
      "                                                                                                  \n",
      " conv4_block4_2_relu (Activatio  (None, 14, 14, 256)  0          ['conv4_block4_2_bn[0][0]']      \n",
      " n)                                                                                               \n",
      "                                                                                                  \n",
      " conv4_block4_3_conv (Conv2D)   (None, 14, 14, 1024  263168      ['conv4_block4_2_relu[0][0]']    \n",
      "                                )                                                                 \n",
      "                                                                                                  \n",
      " conv4_block4_3_bn (BatchNormal  (None, 14, 14, 1024  4096       ['conv4_block4_3_conv[0][0]']    \n",
      " ization)                       )                                                                 \n",
      "                                                                                                  \n",
      " conv4_block4_add (Add)         (None, 14, 14, 1024  0           ['conv4_block3_out[0][0]',       \n",
      "                                )                                 'conv4_block4_3_bn[0][0]']      \n",
      "                                                                                                  \n",
      " conv4_block4_out (Activation)  (None, 14, 14, 1024  0           ['conv4_block4_add[0][0]']       \n",
      "                                )                                                                 \n",
      "                                                                                                  \n"
     ]
    },
    {
     "name": "stdout",
     "output_type": "stream",
     "text": [
      " conv4_block5_1_conv (Conv2D)   (None, 14, 14, 256)  262400      ['conv4_block4_out[0][0]']       \n",
      "                                                                                                  \n",
      " conv4_block5_1_bn (BatchNormal  (None, 14, 14, 256)  1024       ['conv4_block5_1_conv[0][0]']    \n",
      " ization)                                                                                         \n",
      "                                                                                                  \n",
      " conv4_block5_1_relu (Activatio  (None, 14, 14, 256)  0          ['conv4_block5_1_bn[0][0]']      \n",
      " n)                                                                                               \n",
      "                                                                                                  \n",
      " conv4_block5_2_conv (Conv2D)   (None, 14, 14, 256)  590080      ['conv4_block5_1_relu[0][0]']    \n",
      "                                                                                                  \n",
      " conv4_block5_2_bn (BatchNormal  (None, 14, 14, 256)  1024       ['conv4_block5_2_conv[0][0]']    \n",
      " ization)                                                                                         \n",
      "                                                                                                  \n",
      " conv4_block5_2_relu (Activatio  (None, 14, 14, 256)  0          ['conv4_block5_2_bn[0][0]']      \n",
      " n)                                                                                               \n",
      "                                                                                                  \n",
      " conv4_block5_3_conv (Conv2D)   (None, 14, 14, 1024  263168      ['conv4_block5_2_relu[0][0]']    \n",
      "                                )                                                                 \n",
      "                                                                                                  \n",
      " conv4_block5_3_bn (BatchNormal  (None, 14, 14, 1024  4096       ['conv4_block5_3_conv[0][0]']    \n",
      " ization)                       )                                                                 \n",
      "                                                                                                  \n",
      " conv4_block5_add (Add)         (None, 14, 14, 1024  0           ['conv4_block4_out[0][0]',       \n",
      "                                )                                 'conv4_block5_3_bn[0][0]']      \n",
      "                                                                                                  \n",
      " conv4_block5_out (Activation)  (None, 14, 14, 1024  0           ['conv4_block5_add[0][0]']       \n",
      "                                )                                                                 \n",
      "                                                                                                  \n",
      " conv4_block6_1_conv (Conv2D)   (None, 14, 14, 256)  262400      ['conv4_block5_out[0][0]']       \n",
      "                                                                                                  \n",
      " conv4_block6_1_bn (BatchNormal  (None, 14, 14, 256)  1024       ['conv4_block6_1_conv[0][0]']    \n",
      " ization)                                                                                         \n",
      "                                                                                                  \n",
      " conv4_block6_1_relu (Activatio  (None, 14, 14, 256)  0          ['conv4_block6_1_bn[0][0]']      \n",
      " n)                                                                                               \n",
      "                                                                                                  \n",
      " conv4_block6_2_conv (Conv2D)   (None, 14, 14, 256)  590080      ['conv4_block6_1_relu[0][0]']    \n",
      "                                                                                                  \n",
      " conv4_block6_2_bn (BatchNormal  (None, 14, 14, 256)  1024       ['conv4_block6_2_conv[0][0]']    \n",
      " ization)                                                                                         \n",
      "                                                                                                  \n",
      " conv4_block6_2_relu (Activatio  (None, 14, 14, 256)  0          ['conv4_block6_2_bn[0][0]']      \n",
      " n)                                                                                               \n",
      "                                                                                                  \n",
      " conv4_block6_3_conv (Conv2D)   (None, 14, 14, 1024  263168      ['conv4_block6_2_relu[0][0]']    \n",
      "                                )                                                                 \n",
      "                                                                                                  \n",
      " conv4_block6_3_bn (BatchNormal  (None, 14, 14, 1024  4096       ['conv4_block6_3_conv[0][0]']    \n",
      " ization)                       )                                                                 \n",
      "                                                                                                  \n",
      " conv4_block6_add (Add)         (None, 14, 14, 1024  0           ['conv4_block5_out[0][0]',       \n",
      "                                )                                 'conv4_block6_3_bn[0][0]']      \n",
      "                                                                                                  \n",
      " conv4_block6_out (Activation)  (None, 14, 14, 1024  0           ['conv4_block6_add[0][0]']       \n",
      "                                )                                                                 \n",
      "                                                                                                  \n",
      " conv5_block1_1_conv (Conv2D)   (None, 7, 7, 512)    524800      ['conv4_block6_out[0][0]']       \n",
      "                                                                                                  \n",
      " conv5_block1_1_bn (BatchNormal  (None, 7, 7, 512)   2048        ['conv5_block1_1_conv[0][0]']    \n",
      " ization)                                                                                         \n",
      "                                                                                                  \n",
      " conv5_block1_1_relu (Activatio  (None, 7, 7, 512)   0           ['conv5_block1_1_bn[0][0]']      \n",
      " n)                                                                                               \n",
      "                                                                                                  \n",
      " conv5_block1_2_conv (Conv2D)   (None, 7, 7, 512)    2359808     ['conv5_block1_1_relu[0][0]']    \n",
      "                                                                                                  \n",
      " conv5_block1_2_bn (BatchNormal  (None, 7, 7, 512)   2048        ['conv5_block1_2_conv[0][0]']    \n",
      " ization)                                                                                         \n",
      "                                                                                                  \n",
      " conv5_block1_2_relu (Activatio  (None, 7, 7, 512)   0           ['conv5_block1_2_bn[0][0]']      \n",
      " n)                                                                                               \n",
      "                                                                                                  \n",
      " conv5_block1_0_conv (Conv2D)   (None, 7, 7, 2048)   2099200     ['conv4_block6_out[0][0]']       \n",
      "                                                                                                  \n",
      " conv5_block1_3_conv (Conv2D)   (None, 7, 7, 2048)   1050624     ['conv5_block1_2_relu[0][0]']    \n",
      "                                                                                                  \n",
      " conv5_block1_0_bn (BatchNormal  (None, 7, 7, 2048)  8192        ['conv5_block1_0_conv[0][0]']    \n",
      " ization)                                                                                         \n",
      "                                                                                                  \n",
      " conv5_block1_3_bn (BatchNormal  (None, 7, 7, 2048)  8192        ['conv5_block1_3_conv[0][0]']    \n",
      " ization)                                                                                         \n",
      "                                                                                                  \n",
      " conv5_block1_add (Add)         (None, 7, 7, 2048)   0           ['conv5_block1_0_bn[0][0]',      \n"
     ]
    },
    {
     "name": "stdout",
     "output_type": "stream",
     "text": [
      "                                                                  'conv5_block1_3_bn[0][0]']      \n",
      "                                                                                                  \n",
      " conv5_block1_out (Activation)  (None, 7, 7, 2048)   0           ['conv5_block1_add[0][0]']       \n",
      "                                                                                                  \n",
      " conv5_block2_1_conv (Conv2D)   (None, 7, 7, 512)    1049088     ['conv5_block1_out[0][0]']       \n",
      "                                                                                                  \n",
      " conv5_block2_1_bn (BatchNormal  (None, 7, 7, 512)   2048        ['conv5_block2_1_conv[0][0]']    \n",
      " ization)                                                                                         \n",
      "                                                                                                  \n",
      " conv5_block2_1_relu (Activatio  (None, 7, 7, 512)   0           ['conv5_block2_1_bn[0][0]']      \n",
      " n)                                                                                               \n",
      "                                                                                                  \n",
      " conv5_block2_2_conv (Conv2D)   (None, 7, 7, 512)    2359808     ['conv5_block2_1_relu[0][0]']    \n",
      "                                                                                                  \n",
      " conv5_block2_2_bn (BatchNormal  (None, 7, 7, 512)   2048        ['conv5_block2_2_conv[0][0]']    \n",
      " ization)                                                                                         \n",
      "                                                                                                  \n",
      " conv5_block2_2_relu (Activatio  (None, 7, 7, 512)   0           ['conv5_block2_2_bn[0][0]']      \n",
      " n)                                                                                               \n",
      "                                                                                                  \n",
      " conv5_block2_3_conv (Conv2D)   (None, 7, 7, 2048)   1050624     ['conv5_block2_2_relu[0][0]']    \n",
      "                                                                                                  \n",
      " conv5_block2_3_bn (BatchNormal  (None, 7, 7, 2048)  8192        ['conv5_block2_3_conv[0][0]']    \n",
      " ization)                                                                                         \n",
      "                                                                                                  \n",
      " conv5_block2_add (Add)         (None, 7, 7, 2048)   0           ['conv5_block1_out[0][0]',       \n",
      "                                                                  'conv5_block2_3_bn[0][0]']      \n",
      "                                                                                                  \n",
      " conv5_block2_out (Activation)  (None, 7, 7, 2048)   0           ['conv5_block2_add[0][0]']       \n",
      "                                                                                                  \n",
      " conv5_block3_1_conv (Conv2D)   (None, 7, 7, 512)    1049088     ['conv5_block2_out[0][0]']       \n",
      "                                                                                                  \n",
      " conv5_block3_1_bn (BatchNormal  (None, 7, 7, 512)   2048        ['conv5_block3_1_conv[0][0]']    \n",
      " ization)                                                                                         \n",
      "                                                                                                  \n",
      " conv5_block3_1_relu (Activatio  (None, 7, 7, 512)   0           ['conv5_block3_1_bn[0][0]']      \n",
      " n)                                                                                               \n",
      "                                                                                                  \n",
      " conv5_block3_2_conv (Conv2D)   (None, 7, 7, 512)    2359808     ['conv5_block3_1_relu[0][0]']    \n",
      "                                                                                                  \n",
      " conv5_block3_2_bn (BatchNormal  (None, 7, 7, 512)   2048        ['conv5_block3_2_conv[0][0]']    \n",
      " ization)                                                                                         \n",
      "                                                                                                  \n",
      " conv5_block3_2_relu (Activatio  (None, 7, 7, 512)   0           ['conv5_block3_2_bn[0][0]']      \n",
      " n)                                                                                               \n",
      "                                                                                                  \n",
      " conv5_block3_3_conv (Conv2D)   (None, 7, 7, 2048)   1050624     ['conv5_block3_2_relu[0][0]']    \n",
      "                                                                                                  \n",
      " conv5_block3_3_bn (BatchNormal  (None, 7, 7, 2048)  8192        ['conv5_block3_3_conv[0][0]']    \n",
      " ization)                                                                                         \n",
      "                                                                                                  \n",
      " conv5_block3_add (Add)         (None, 7, 7, 2048)   0           ['conv5_block2_out[0][0]',       \n",
      "                                                                  'conv5_block3_3_bn[0][0]']      \n",
      "                                                                                                  \n",
      " conv5_block3_out (Activation)  (None, 7, 7, 2048)   0           ['conv5_block3_add[0][0]']       \n",
      "                                                                                                  \n",
      "==================================================================================================\n",
      "Total params: 23,587,712\n",
      "Trainable params: 23,534,592\n",
      "Non-trainable params: 53,120\n",
      "__________________________________________________________________________________________________\n"
     ]
    }
   ],
   "source": [
    "# ResNet50 model 불러오기 \n",
    "base_model = ResNet50(include_top=False, input_shape =(224, 224 ,3), weights = 'imagenet')\n",
    "base_model.summary()"
   ]
  },
  {
   "cell_type": "code",
   "execution_count": 14,
   "id": "bb9556c3",
   "metadata": {},
   "outputs": [],
   "source": [
    "# ResNet50 전이학습 \n",
    "base_model.trainable = False\n",
    "\n",
    "## 모델 layer 설계\n",
    "inputs = Input(shape=(None, None, 3))\n",
    "x = tf.keras.layers.experimental.preprocessing.Resizing(256,256)(inputs) \n",
    "x = tf.keras.layers.experimental.preprocessing.CenterCrop(224,224)(x)\n",
    "x = tf.keras.applications.resnet50.preprocess_input(x)\n",
    "x = base_model(x, training = False)\n",
    "x = Flatten()(x)   # Fully Connected에 온전하게 학습을 위해 펼쳐준다 \n",
    "\n",
    "outputs = Dense(5, activation = 'softmax')(x) # Softmax 함수로 5개 분류\n",
    "\n",
    "model_res = tf.keras.Model(inputs, outputs) # model_res 란 이름의 인풋과 아웃풋이 정해진 모델"
   ]
  },
  {
   "cell_type": "code",
   "execution_count": 15,
   "id": "5409f826",
   "metadata": {},
   "outputs": [
    {
     "name": "stdout",
     "output_type": "stream",
     "text": [
      "Model: \"model\"\n",
      "_________________________________________________________________\n",
      " Layer (type)                Output Shape              Param #   \n",
      "=================================================================\n",
      " input_2 (InputLayer)        [(None, None, None, 3)]   0         \n",
      "                                                                 \n",
      " resizing (Resizing)         (None, 256, 256, 3)       0         \n",
      "                                                                 \n",
      " center_crop (CenterCrop)    (None, 224, 224, 3)       0         \n",
      "                                                                 \n",
      " tf.__operators__.getitem (S  (None, 224, 224, 3)      0         \n",
      " licingOpLambda)                                                 \n",
      "                                                                 \n",
      " tf.nn.bias_add (TFOpLambda)  (None, 224, 224, 3)      0         \n",
      "                                                                 \n",
      " resnet50 (Functional)       (None, 7, 7, 2048)        23587712  \n",
      "                                                                 \n",
      " flatten (Flatten)           (None, 100352)            0         \n",
      "                                                                 \n",
      " dense (Dense)               (None, 5)                 501765    \n",
      "                                                                 \n",
      "=================================================================\n",
      "Total params: 24,089,477\n",
      "Trainable params: 501,765\n",
      "Non-trainable params: 23,587,712\n",
      "_________________________________________________________________\n"
     ]
    }
   ],
   "source": [
    "model_res.summary()"
   ]
  },
  {
   "cell_type": "code",
   "execution_count": 16,
   "id": "7258ff3d",
   "metadata": {},
   "outputs": [],
   "source": [
    "model_res.compile(loss = 'categorical_crossentropy',\n",
    "             optimizer = tf.keras.optimizers.Adam(learning_rate= 0.0001),\n",
    "             metrics = ['acc'])"
   ]
  },
  {
   "cell_type": "code",
   "execution_count": 17,
   "id": "1188cca3",
   "metadata": {},
   "outputs": [],
   "source": [
    "# 모든 이미지를 1/255로 스케일을 조정 및 정규화 진행\n",
    "# 이미지 정규화를 위해 위에서 만든 forward 함수를 ImageDataGenerator에 적용하여 진행\n",
    "train_datagan = ImageDataGenerator(rescale=1./255, preprocessing_function = forward) # forward 정규화 \n",
    "valid_datagan = ImageDataGenerator(rescale=1./255, preprocessing_function = forward)"
   ]
  },
  {
   "cell_type": "code",
   "execution_count": 18,
   "id": "c29b00ef",
   "metadata": {},
   "outputs": [
    {
     "name": "stdout",
     "output_type": "stream",
     "text": [
      "Found 1924 images belonging to 5 classes.\n"
     ]
    }
   ],
   "source": [
    "train_generator = train_datagan.flow_from_directory(\n",
    "                                            train_dir, \n",
    "                                            target_size = (224,224),\n",
    "                                            batch_size=56,\n",
    "                                            class_mode='categorical')"
   ]
  },
  {
   "cell_type": "code",
   "execution_count": 19,
   "id": "de5cdb84",
   "metadata": {},
   "outputs": [
    {
     "data": {
      "text/plain": [
       "{'geumjeonsoo': 0, 'monstera': 1, 'stuckyi': 2, 'tableyaja': 3, 'yeoincho': 4}"
      ]
     },
     "execution_count": 19,
     "metadata": {},
     "output_type": "execute_result"
    }
   ],
   "source": [
    "train_generator.class_indices"
   ]
  },
  {
   "cell_type": "code",
   "execution_count": 20,
   "id": "fa54df21",
   "metadata": {},
   "outputs": [
    {
     "name": "stdout",
     "output_type": "stream",
     "text": [
      "Found 961 images belonging to 5 classes.\n"
     ]
    }
   ],
   "source": [
    "validation_generator = valid_datagan.flow_from_directory(\n",
    "                                            valid_dir, \n",
    "                                            target_size = (224,224),\n",
    "                                            batch_size=56,\n",
    "                                            class_mode='categorical')"
   ]
  },
  {
   "cell_type": "code",
   "execution_count": 21,
   "id": "b90b008f",
   "metadata": {},
   "outputs": [
    {
     "data": {
      "text/plain": [
       "{'geumjeonsoo': 0, 'monstera': 1, 'stuckyi': 2, 'tableyaja': 3, 'yeoincho': 4}"
      ]
     },
     "execution_count": 21,
     "metadata": {},
     "output_type": "execute_result"
    }
   ],
   "source": [
    "validation_generator.class_indices"
   ]
  },
  {
   "cell_type": "code",
   "execution_count": 22,
   "id": "7b891835",
   "metadata": {},
   "outputs": [
    {
     "name": "stdout",
     "output_type": "stream",
     "text": [
      "배치 데이터 크기: (56, 224, 224, 3)\n",
      "배치 데이터 크기: (56, 5)\n"
     ]
    }
   ],
   "source": [
    "for data_batch, labels_batch in train_generator:\n",
    "    print('배치 데이터 크기:', data_batch.shape)\n",
    "    print('배치 데이터 크기:', labels_batch.shape)\n",
    "    break"
   ]
  },
  {
   "cell_type": "code",
   "execution_count": 23,
   "id": "edce2730",
   "metadata": {},
   "outputs": [],
   "source": [
    "# 모델 저장 경로 설정\n",
    "cur_dir = os.getcwd()\n",
    "model_dir = 'save_model/h5'\n",
    "model_path = os.path.join(cur_dir, model_dir)\n",
    "file_name = 'resnet50(0505)_Normal_lr0.0001_ba56_ep100.h5'\n",
    "model_file = os.path.join(model_path,file_name)\n",
    "\n",
    "os.makedirs(model_path, exist_ok = True)"
   ]
  },
  {
   "cell_type": "code",
   "execution_count": 24,
   "id": "efd2451c",
   "metadata": {
    "scrolled": true
   },
   "outputs": [
    {
     "name": "stdout",
     "output_type": "stream",
     "text": [
      "Epoch 1/100\n"
     ]
    },
    {
     "name": "stderr",
     "output_type": "stream",
     "text": [
      "2022-05-18 09:42:42.360212: W tensorflow/core/platform/profile_utils/cpu_utils.cc:128] Failed to get CPU frequency: 0 Hz\n",
      "2022-05-18 09:42:43.667056: I tensorflow/core/grappler/optimizers/custom_graph_optimizer_registry.cc:113] Plugin optimizer for device_type GPU is enabled.\n"
     ]
    },
    {
     "name": "stdout",
     "output_type": "stream",
     "text": [
      "35/35 [==============================] - ETA: 0s - loss: 1.0056 - acc: 0.6414"
     ]
    },
    {
     "name": "stderr",
     "output_type": "stream",
     "text": [
      "2022-05-18 09:43:06.059995: I tensorflow/core/grappler/optimizers/custom_graph_optimizer_registry.cc:113] Plugin optimizer for device_type GPU is enabled.\n"
     ]
    },
    {
     "name": "stdout",
     "output_type": "stream",
     "text": [
      "35/35 [==============================] - 34s 946ms/step - loss: 1.0056 - acc: 0.6414 - val_loss: 0.6717 - val_acc: 0.7607\n",
      "Epoch 2/100\n",
      "35/35 [==============================] - 31s 886ms/step - loss: 0.3702 - acc: 0.8706 - val_loss: 0.5053 - val_acc: 0.8273\n",
      "Epoch 3/100\n",
      "35/35 [==============================] - 31s 893ms/step - loss: 0.2346 - acc: 0.9381 - val_loss: 0.5156 - val_acc: 0.8283\n",
      "Epoch 4/100\n",
      "35/35 [==============================] - 31s 894ms/step - loss: 0.1654 - acc: 0.9652 - val_loss: 0.4728 - val_acc: 0.8345\n",
      "Epoch 5/100\n",
      "35/35 [==============================] - 32s 908ms/step - loss: 0.1210 - acc: 0.9813 - val_loss: 0.4769 - val_acc: 0.8335\n",
      "Epoch 6/100\n",
      "35/35 [==============================] - 32s 931ms/step - loss: 0.0943 - acc: 0.9896 - val_loss: 0.4630 - val_acc: 0.8314\n",
      "Epoch 7/100\n",
      "35/35 [==============================] - 34s 973ms/step - loss: 0.0724 - acc: 0.9932 - val_loss: 0.4682 - val_acc: 0.8398\n",
      "Epoch 8/100\n",
      "35/35 [==============================] - 34s 990ms/step - loss: 0.0598 - acc: 0.9984 - val_loss: 0.4659 - val_acc: 0.8366\n",
      "Epoch 9/100\n",
      "35/35 [==============================] - 34s 976ms/step - loss: 0.0491 - acc: 0.9974 - val_loss: 0.4665 - val_acc: 0.8377\n",
      "Epoch 10/100\n",
      "35/35 [==============================] - 33s 956ms/step - loss: 0.0409 - acc: 0.9995 - val_loss: 0.4679 - val_acc: 0.8429\n",
      "Epoch 11/100\n",
      "35/35 [==============================] - 33s 962ms/step - loss: 0.0358 - acc: 1.0000 - val_loss: 0.4755 - val_acc: 0.8429\n",
      "Epoch 12/100\n",
      "35/35 [==============================] - 35s 1s/step - loss: 0.0306 - acc: 1.0000 - val_loss: 0.4704 - val_acc: 0.8429\n",
      "Epoch 13/100\n",
      "35/35 [==============================] - 36s 1s/step - loss: 0.0267 - acc: 1.0000 - val_loss: 0.4730 - val_acc: 0.8429\n",
      "Epoch 14/100\n",
      "35/35 [==============================] - 37s 1s/step - loss: 0.0235 - acc: 1.0000 - val_loss: 0.4803 - val_acc: 0.8387\n",
      "Epoch 15/100\n",
      "35/35 [==============================] - 36s 1s/step - loss: 0.0217 - acc: 1.0000 - val_loss: 0.4800 - val_acc: 0.8398\n",
      "Epoch 16/100\n",
      "35/35 [==============================] - 37s 1s/step - loss: 0.0191 - acc: 1.0000 - val_loss: 0.4873 - val_acc: 0.8366\n",
      "Epoch 17/100\n",
      "35/35 [==============================] - 38s 1s/step - loss: 0.0174 - acc: 1.0000 - val_loss: 0.4854 - val_acc: 0.8387\n",
      "Epoch 18/100\n",
      "35/35 [==============================] - 41s 1s/step - loss: 0.0156 - acc: 1.0000 - val_loss: 0.4865 - val_acc: 0.8366\n",
      "Epoch 19/100\n",
      "35/35 [==============================] - 40s 1s/step - loss: 0.0143 - acc: 1.0000 - val_loss: 0.4875 - val_acc: 0.8408\n",
      "Epoch 20/100\n",
      "35/35 [==============================] - 37s 1s/step - loss: 0.0133 - acc: 1.0000 - val_loss: 0.4919 - val_acc: 0.8398\n",
      "Epoch 21/100\n",
      "35/35 [==============================] - 38s 1s/step - loss: 0.0122 - acc: 1.0000 - val_loss: 0.4976 - val_acc: 0.8377\n",
      "Epoch 22/100\n",
      "35/35 [==============================] - 38s 1s/step - loss: 0.0112 - acc: 1.0000 - val_loss: 0.4957 - val_acc: 0.8387\n",
      "Epoch 23/100\n",
      "35/35 [==============================] - 38s 1s/step - loss: 0.0105 - acc: 1.0000 - val_loss: 0.4973 - val_acc: 0.8429\n",
      "Epoch 24/100\n",
      "35/35 [==============================] - 40s 1s/step - loss: 0.0097 - acc: 1.0000 - val_loss: 0.4973 - val_acc: 0.8439\n",
      "Epoch 25/100\n",
      "35/35 [==============================] - 39s 1s/step - loss: 0.0091 - acc: 1.0000 - val_loss: 0.5027 - val_acc: 0.8408\n",
      "Epoch 26/100\n",
      "35/35 [==============================] - 38s 1s/step - loss: 0.0086 - acc: 1.0000 - val_loss: 0.5028 - val_acc: 0.8429\n",
      "Epoch 27/100\n",
      "35/35 [==============================] - 38s 1s/step - loss: 0.0081 - acc: 1.0000 - val_loss: 0.5051 - val_acc: 0.8408\n",
      "Epoch 28/100\n",
      "35/35 [==============================] - 42s 1s/step - loss: 0.0076 - acc: 1.0000 - val_loss: 0.5017 - val_acc: 0.8429\n",
      "Epoch 29/100\n",
      "35/35 [==============================] - 38s 1s/step - loss: 0.0071 - acc: 1.0000 - val_loss: 0.5119 - val_acc: 0.8418\n",
      "Epoch 30/100\n",
      "35/35 [==============================] - 41s 1s/step - loss: 0.0067 - acc: 1.0000 - val_loss: 0.5100 - val_acc: 0.8408\n",
      "Epoch 31/100\n",
      "35/35 [==============================] - 42s 1s/step - loss: 0.0063 - acc: 1.0000 - val_loss: 0.5116 - val_acc: 0.8377\n",
      "Epoch 32/100\n",
      "35/35 [==============================] - 44s 1s/step - loss: 0.0060 - acc: 1.0000 - val_loss: 0.5164 - val_acc: 0.8398\n",
      "Epoch 33/100\n",
      "35/35 [==============================] - 44s 1s/step - loss: 0.0057 - acc: 1.0000 - val_loss: 0.5169 - val_acc: 0.8429\n",
      "Epoch 34/100\n",
      "35/35 [==============================] - 44s 1s/step - loss: 0.0055 - acc: 1.0000 - val_loss: 0.5186 - val_acc: 0.8418\n",
      "Epoch 35/100\n",
      "35/35 [==============================] - 43s 1s/step - loss: 0.0052 - acc: 1.0000 - val_loss: 0.5183 - val_acc: 0.8439\n",
      "Epoch 36/100\n",
      "35/35 [==============================] - 43s 1s/step - loss: 0.0049 - acc: 1.0000 - val_loss: 0.5205 - val_acc: 0.8418\n",
      "Epoch 37/100\n",
      "35/35 [==============================] - 43s 1s/step - loss: 0.0047 - acc: 1.0000 - val_loss: 0.5265 - val_acc: 0.8418\n",
      "Epoch 38/100\n",
      "35/35 [==============================] - 44s 1s/step - loss: 0.0045 - acc: 1.0000 - val_loss: 0.5238 - val_acc: 0.8418\n",
      "Epoch 39/100\n",
      "35/35 [==============================] - 45s 1s/step - loss: 0.0043 - acc: 1.0000 - val_loss: 0.5250 - val_acc: 0.8429\n",
      "Epoch 40/100\n",
      "35/35 [==============================] - 43s 1s/step - loss: 0.0041 - acc: 1.0000 - val_loss: 0.5285 - val_acc: 0.8408\n",
      "Epoch 41/100\n",
      "35/35 [==============================] - 45s 1s/step - loss: 0.0039 - acc: 1.0000 - val_loss: 0.5302 - val_acc: 0.8408\n",
      "Epoch 42/100\n",
      "35/35 [==============================] - 47s 1s/step - loss: 0.0038 - acc: 1.0000 - val_loss: 0.5324 - val_acc: 0.8418\n",
      "Epoch 43/100\n",
      "35/35 [==============================] - 48s 1s/step - loss: 0.0036 - acc: 1.0000 - val_loss: 0.5304 - val_acc: 0.8429\n",
      "Epoch 44/100\n",
      "35/35 [==============================] - 48s 1s/step - loss: 0.0034 - acc: 1.0000 - val_loss: 0.5343 - val_acc: 0.8408\n",
      "Epoch 45/100\n",
      "35/35 [==============================] - 47s 1s/step - loss: 0.0033 - acc: 1.0000 - val_loss: 0.5370 - val_acc: 0.8408\n",
      "Epoch 46/100\n",
      "35/35 [==============================] - 47s 1s/step - loss: 0.0032 - acc: 1.0000 - val_loss: 0.5343 - val_acc: 0.8429\n",
      "Epoch 47/100\n",
      "35/35 [==============================] - 48s 1s/step - loss: 0.0031 - acc: 1.0000 - val_loss: 0.5403 - val_acc: 0.8418\n",
      "Epoch 48/100\n",
      "35/35 [==============================] - 50s 1s/step - loss: 0.0030 - acc: 1.0000 - val_loss: 0.5391 - val_acc: 0.8439\n",
      "Epoch 49/100\n",
      "35/35 [==============================] - 49s 1s/step - loss: 0.0029 - acc: 1.0000 - val_loss: 0.5421 - val_acc: 0.8418\n",
      "Epoch 50/100\n",
      "35/35 [==============================] - 49s 1s/step - loss: 0.0028 - acc: 1.0000 - val_loss: 0.5427 - val_acc: 0.8418\n",
      "Epoch 51/100\n",
      "35/35 [==============================] - 49s 1s/step - loss: 0.0026 - acc: 1.0000 - val_loss: 0.5421 - val_acc: 0.8439\n",
      "Epoch 52/100\n",
      "35/35 [==============================] - 50s 1s/step - loss: 0.0026 - acc: 1.0000 - val_loss: 0.5446 - val_acc: 0.8429\n",
      "Epoch 53/100\n",
      "35/35 [==============================] - 50s 1s/step - loss: 0.0025 - acc: 1.0000 - val_loss: 0.5459 - val_acc: 0.8439\n",
      "Epoch 54/100\n",
      "35/35 [==============================] - 48s 1s/step - loss: 0.0024 - acc: 1.0000 - val_loss: 0.5471 - val_acc: 0.8429\n",
      "Epoch 55/100\n",
      "35/35 [==============================] - 48s 1s/step - loss: 0.0023 - acc: 1.0000 - val_loss: 0.5486 - val_acc: 0.8439\n",
      "Epoch 56/100\n",
      "35/35 [==============================] - 49s 1s/step - loss: 0.0022 - acc: 1.0000 - val_loss: 0.5515 - val_acc: 0.8418\n",
      "Epoch 57/100\n",
      "35/35 [==============================] - 50s 1s/step - loss: 0.0022 - acc: 1.0000 - val_loss: 0.5512 - val_acc: 0.8429\n",
      "Epoch 58/100\n",
      "35/35 [==============================] - 49s 1s/step - loss: 0.0021 - acc: 1.0000 - val_loss: 0.5524 - val_acc: 0.8418\n",
      "Epoch 59/100\n",
      "35/35 [==============================] - 48s 1s/step - loss: 0.0020 - acc: 1.0000 - val_loss: 0.5547 - val_acc: 0.8439\n",
      "Epoch 60/100\n",
      "35/35 [==============================] - 48s 1s/step - loss: 0.0019 - acc: 1.0000 - val_loss: 0.5546 - val_acc: 0.8439\n",
      "Epoch 61/100\n",
      "35/35 [==============================] - 47s 1s/step - loss: 0.0019 - acc: 1.0000 - val_loss: 0.5562 - val_acc: 0.8439\n",
      "Epoch 62/100\n",
      "35/35 [==============================] - 47s 1s/step - loss: 0.0018 - acc: 1.0000 - val_loss: 0.5595 - val_acc: 0.8439\n"
     ]
    },
    {
     "name": "stdout",
     "output_type": "stream",
     "text": [
      "Epoch 63/100\n",
      "35/35 [==============================] - 48s 1s/step - loss: 0.0018 - acc: 1.0000 - val_loss: 0.5591 - val_acc: 0.8439\n",
      "Epoch 64/100\n",
      "35/35 [==============================] - 48s 1s/step - loss: 0.0017 - acc: 1.0000 - val_loss: 0.5603 - val_acc: 0.8429\n",
      "Epoch 65/100\n",
      "35/35 [==============================] - 45s 1s/step - loss: 0.0017 - acc: 1.0000 - val_loss: 0.5611 - val_acc: 0.8439\n",
      "Epoch 66/100\n",
      "35/35 [==============================] - 46s 1s/step - loss: 0.0016 - acc: 1.0000 - val_loss: 0.5618 - val_acc: 0.8429\n",
      "Epoch 67/100\n",
      "35/35 [==============================] - 48s 1s/step - loss: 0.0016 - acc: 1.0000 - val_loss: 0.5621 - val_acc: 0.8429\n",
      "Epoch 68/100\n",
      "35/35 [==============================] - 50s 1s/step - loss: 0.0015 - acc: 1.0000 - val_loss: 0.5658 - val_acc: 0.8439\n",
      "Epoch 69/100\n",
      "35/35 [==============================] - 48s 1s/step - loss: 0.0015 - acc: 1.0000 - val_loss: 0.5661 - val_acc: 0.8429\n",
      "Epoch 70/100\n",
      "35/35 [==============================] - 49s 1s/step - loss: 0.0014 - acc: 1.0000 - val_loss: 0.5682 - val_acc: 0.8429\n",
      "Epoch 71/100\n",
      "35/35 [==============================] - 50s 1s/step - loss: 0.0014 - acc: 1.0000 - val_loss: 0.5681 - val_acc: 0.8450\n",
      "Epoch 72/100\n",
      "35/35 [==============================] - 48s 1s/step - loss: 0.0014 - acc: 1.0000 - val_loss: 0.5689 - val_acc: 0.8418\n",
      "Epoch 73/100\n",
      "35/35 [==============================] - 48s 1s/step - loss: 0.0013 - acc: 1.0000 - val_loss: 0.5697 - val_acc: 0.8450\n",
      "Epoch 74/100\n",
      "35/35 [==============================] - 47s 1s/step - loss: 0.0013 - acc: 1.0000 - val_loss: 0.5716 - val_acc: 0.8429\n",
      "Epoch 75/100\n",
      "35/35 [==============================] - 49s 1s/step - loss: 0.0013 - acc: 1.0000 - val_loss: 0.5720 - val_acc: 0.8439\n",
      "Epoch 76/100\n",
      "35/35 [==============================] - 50s 1s/step - loss: 0.0012 - acc: 1.0000 - val_loss: 0.5740 - val_acc: 0.8439\n",
      "Epoch 77/100\n",
      "35/35 [==============================] - 48s 1s/step - loss: 0.0012 - acc: 1.0000 - val_loss: 0.5749 - val_acc: 0.8429\n",
      "Epoch 78/100\n",
      "35/35 [==============================] - 51s 1s/step - loss: 0.0012 - acc: 1.0000 - val_loss: 0.5760 - val_acc: 0.8439\n",
      "Epoch 79/100\n",
      "35/35 [==============================] - 53s 2s/step - loss: 0.0011 - acc: 1.0000 - val_loss: 0.5770 - val_acc: 0.8439\n",
      "Epoch 80/100\n",
      "35/35 [==============================] - 50s 1s/step - loss: 0.0011 - acc: 1.0000 - val_loss: 0.5778 - val_acc: 0.8450\n",
      "Epoch 81/100\n",
      "35/35 [==============================] - 51s 1s/step - loss: 0.0011 - acc: 1.0000 - val_loss: 0.5798 - val_acc: 0.8439\n",
      "Epoch 82/100\n",
      "35/35 [==============================] - 54s 2s/step - loss: 0.0010 - acc: 1.0000 - val_loss: 0.5802 - val_acc: 0.8439\n",
      "Epoch 83/100\n",
      "35/35 [==============================] - 53s 2s/step - loss: 0.0010 - acc: 1.0000 - val_loss: 0.5821 - val_acc: 0.8439\n",
      "Epoch 84/100\n",
      "35/35 [==============================] - 51s 1s/step - loss: 9.9324e-04 - acc: 1.0000 - val_loss: 0.5828 - val_acc: 0.8439\n",
      "Epoch 85/100\n",
      "35/35 [==============================] - 50s 1s/step - loss: 9.6885e-04 - acc: 1.0000 - val_loss: 0.5838 - val_acc: 0.8429\n",
      "Epoch 86/100\n",
      "35/35 [==============================] - 50s 1s/step - loss: 9.4132e-04 - acc: 1.0000 - val_loss: 0.5849 - val_acc: 0.8450\n",
      "Epoch 87/100\n",
      "35/35 [==============================] - 50s 1s/step - loss: 9.2193e-04 - acc: 1.0000 - val_loss: 0.5843 - val_acc: 0.8439\n",
      "Epoch 88/100\n",
      "35/35 [==============================] - 52s 2s/step - loss: 8.9761e-04 - acc: 1.0000 - val_loss: 0.5871 - val_acc: 0.8439\n",
      "Epoch 89/100\n",
      "35/35 [==============================] - 47s 1s/step - loss: 8.8130e-04 - acc: 1.0000 - val_loss: 0.5883 - val_acc: 0.8450\n",
      "Epoch 90/100\n",
      "35/35 [==============================] - 48s 1s/step - loss: 8.5626e-04 - acc: 1.0000 - val_loss: 0.5877 - val_acc: 0.8439\n",
      "Epoch 91/100\n",
      "35/35 [==============================] - 50s 1s/step - loss: 8.3480e-04 - acc: 1.0000 - val_loss: 0.5889 - val_acc: 0.8450\n",
      "Epoch 92/100\n",
      "35/35 [==============================] - 51s 1s/step - loss: 8.1276e-04 - acc: 1.0000 - val_loss: 0.5911 - val_acc: 0.8450\n",
      "Epoch 93/100\n",
      "35/35 [==============================] - 51s 1s/step - loss: 7.9484e-04 - acc: 1.0000 - val_loss: 0.5907 - val_acc: 0.8439\n",
      "Epoch 94/100\n",
      "35/35 [==============================] - 50s 1s/step - loss: 7.7632e-04 - acc: 1.0000 - val_loss: 0.5909 - val_acc: 0.8439\n",
      "Epoch 95/100\n",
      "35/35 [==============================] - 51s 1s/step - loss: 7.5959e-04 - acc: 1.0000 - val_loss: 0.5933 - val_acc: 0.8460\n",
      "Epoch 96/100\n",
      "35/35 [==============================] - 51s 1s/step - loss: 7.3999e-04 - acc: 1.0000 - val_loss: 0.5947 - val_acc: 0.8439\n",
      "Epoch 97/100\n",
      "35/35 [==============================] - 51s 1s/step - loss: 7.2339e-04 - acc: 1.0000 - val_loss: 0.5956 - val_acc: 0.8439\n",
      "Epoch 98/100\n",
      "35/35 [==============================] - 52s 1s/step - loss: 7.0679e-04 - acc: 1.0000 - val_loss: 0.5949 - val_acc: 0.8439\n",
      "Epoch 99/100\n",
      "35/35 [==============================] - 53s 2s/step - loss: 6.9322e-04 - acc: 1.0000 - val_loss: 0.5982 - val_acc: 0.8429\n",
      "Epoch 100/100\n",
      "35/35 [==============================] - 53s 2s/step - loss: 6.7336e-04 - acc: 1.0000 - val_loss: 0.5991 - val_acc: 0.8439\n"
     ]
    }
   ],
   "source": [
    "# early = tf.keras.callbacks.EarlyStopping(monitor='val_loss', patience=7)\n",
    "\n",
    "# 모델 학습 \n",
    "history = model_res.fit(train_generator,\n",
    "                    validation_data=validation_generator,\n",
    "#                    callbacks=[early],\n",
    "                    epochs=100)\n",
    "\n",
    "# 모델 저장\n",
    "model_res.save(model_file, save_format='h5')"
   ]
  },
  {
   "cell_type": "code",
   "execution_count": 25,
   "id": "ba5ab674",
   "metadata": {},
   "outputs": [],
   "source": [
    "# !pip install pandas"
   ]
  },
  {
   "cell_type": "code",
   "execution_count": 26,
   "id": "e60799ba",
   "metadata": {},
   "outputs": [],
   "source": [
    "import pickle\n",
    "import pandas as pd"
   ]
  },
  {
   "cell_type": "code",
   "execution_count": 27,
   "id": "74eb5ec1",
   "metadata": {},
   "outputs": [],
   "source": [
    "## Calling `save('my_model')` creates a SavedModel folder `my_model`.\n",
    "model_res.save(\"./save_model/\"+file_name)"
   ]
  },
  {
   "cell_type": "code",
   "execution_count": 28,
   "id": "949c1ad7",
   "metadata": {},
   "outputs": [
    {
     "name": "stdout",
     "output_type": "stream",
     "text": [
      "Model: \"model\"\n",
      "_________________________________________________________________\n",
      " Layer (type)                Output Shape              Param #   \n",
      "=================================================================\n",
      " input_2 (InputLayer)        [(None, None, None, 3)]   0         \n",
      "                                                                 \n",
      " resizing (Resizing)         (None, 256, 256, 3)       0         \n",
      "                                                                 \n",
      " center_crop (CenterCrop)    (None, 224, 224, 3)       0         \n",
      "                                                                 \n",
      " tf.__operators__.getitem (S  (None, 224, 224, 3)      0         \n",
      " licingOpLambda)                                                 \n",
      "                                                                 \n",
      " tf.nn.bias_add (TFOpLambda)  (None, 224, 224, 3)      0         \n",
      "                                                                 \n",
      " resnet50 (Functional)       (None, 7, 7, 2048)        23587712  \n",
      "                                                                 \n",
      " flatten (Flatten)           (None, 100352)            0         \n",
      "                                                                 \n",
      " dense (Dense)               (None, 5)                 501765    \n",
      "                                                                 \n",
      "=================================================================\n",
      "Total params: 24,089,477\n",
      "Trainable params: 501,765\n",
      "Non-trainable params: 23,587,712\n",
      "_________________________________________________________________\n"
     ]
    }
   ],
   "source": [
    "# It can be used to reconstruct the model identically.\n",
    "new_model = keras.models.load_model(\"./save_model/\"+file_name)\n",
    "new_model.summary()"
   ]
  },
  {
   "cell_type": "code",
   "execution_count": 33,
   "id": "b0f8c670",
   "metadata": {},
   "outputs": [],
   "source": [
    "# convert the history.history dict to a pandas DataFrame:     \n",
    "hist_df = pd.DataFrame(history.history) \n",
    "\n",
    "# save to json:  \n",
    "hist_json_file = file_name+'-history.json' \n",
    "with open(hist_json_file, mode='w') as f:\n",
    "    hist_df.to_json(f)"
   ]
  },
  {
   "cell_type": "code",
   "execution_count": 34,
   "id": "4a417d63",
   "metadata": {},
   "outputs": [],
   "source": [
    "new_model.compile(optimizer = keras.optimizers.Adam(learning_rate=0.0001),\n",
    "                 loss='categorical_crossentropy',\n",
    "                 metrics=['acc'])\n",
    "# new_model.evaluate(test_dataset)"
   ]
  },
  {
   "cell_type": "code",
   "execution_count": 35,
   "id": "abff1075",
   "metadata": {},
   "outputs": [
    {
     "data": {
      "image/png": "[encoded data removed]",
      "text/plain": [
       "<Figure size 432x288 with 1 Axes>"
      ]
     },
     "metadata": {
      "needs_background": "light"
     },
     "output_type": "display_data"
    },
    {
     "data": {
      "image/png": "[encoded data removed]",
      "text/plain": [
       "<Figure size 432x288 with 1 Axes>"
      ]
     },
     "metadata": {
      "needs_background": "light"
     },
     "output_type": "display_data"
    }
   ],
   "source": [
    "acc = history.history['acc']\n",
    "val_acc = history.history['val_acc']\n",
    "loss = history.history['loss']\n",
    "val_loss = history.history['val_loss']\n",
    "\n",
    "epochs = range(1,len(acc) + 1)\n",
    "\n",
    "plt.plot(epochs, acc, 'r', label= 'Training acc')\n",
    "plt.plot(epochs, val_acc, 'b', label= 'Validation acc')\n",
    "plt.title('TRAINING AND VALIDATION ACCURACY')\n",
    "plt.legend()\n",
    "\n",
    "plt.figure()\n",
    "\n",
    "plt.plot(epochs, loss, label = 'Training loss')\n",
    "plt.plot(epochs, val_loss, label = 'Validation loss')\n",
    "plt.title('TRAINING AND VALIDATION LOSS')\n",
    "plt.legend()\n",
    "\n",
    "plt.show()"
   ]
  },
  {
   "cell_type": "code",
   "execution_count": 36,
   "id": "bbf5c0bd",
   "metadata": {
    "scrolled": false
   },
   "outputs": [
    {
     "name": "stdout",
     "output_type": "stream",
     "text": [
      "Found 964 images belonging to 5 classes.\n"
     ]
    },
    {
     "name": "stderr",
     "output_type": "stream",
     "text": [
      "/var/folders/n_/n7h63p7n0p94s4q0cjjkgtl40000gn/T/ipykernel_1081/3651254452.py:5: UserWarning: `Model.evaluate_generator` is deprecated and will be removed in a future version. Please use `Model.evaluate`, which supports generators.\n",
      "  test_loss, test_acc = new_model.evaluate_generator(test_generator,steps=50)\n",
      "2022-05-18 11:07:56.638358: I tensorflow/core/grappler/optimizers/custom_graph_optimizer_registry.cc:113] Plugin optimizer for device_type GPU is enabled.\n"
     ]
    },
    {
     "name": "stdout",
     "output_type": "stream",
     "text": [
      "WARNING:tensorflow:Your input ran out of data; interrupting training. Make sure that your dataset or generator can generate at least `steps_per_epoch * epochs` batches (in this case, 50 batches). You may need to use the repeat() function when building your dataset.\n",
      "test acc :  0.8485477566719055\n"
     ]
    }
   ],
   "source": [
    "test_generator = valid_datagan.flow_from_directory(test_dir,\n",
    "                                                target_size = (224,224),\n",
    "                                                batch_size = 24,\n",
    "                                                class_mode = 'categorical')\n",
    "test_loss, test_acc = new_model.evaluate_generator(test_generator,steps=50)\n",
    "print('test acc : ', test_acc)"
   ]
  },
  {
   "cell_type": "code",
   "execution_count": 37,
   "id": "90c6ae5b",
   "metadata": {},
   "outputs": [
    {
     "name": "stdout",
     "output_type": "stream",
     "text": [
      "Model: \"model\"\n",
      "_________________________________________________________________\n",
      " Layer (type)                Output Shape              Param #   \n",
      "=================================================================\n",
      " input_2 (InputLayer)        [(None, None, None, 3)]   0         \n",
      "                                                                 \n",
      " resizing (Resizing)         (None, 256, 256, 3)       0         \n",
      "                                                                 \n",
      " center_crop (CenterCrop)    (None, 224, 224, 3)       0         \n",
      "                                                                 \n",
      " tf.__operators__.getitem (S  (None, 224, 224, 3)      0         \n",
      " licingOpLambda)                                                 \n",
      "                                                                 \n",
      " tf.nn.bias_add (TFOpLambda)  (None, 224, 224, 3)      0         \n",
      "                                                                 \n",
      " resnet50 (Functional)       (None, 7, 7, 2048)        23587712  \n",
      "                                                                 \n",
      " flatten (Flatten)           (None, 100352)            0         \n",
      "                                                                 \n",
      " dense (Dense)               (None, 5)                 501765    \n",
      "                                                                 \n",
      "=================================================================\n",
      "Total params: 24,089,477\n",
      "Trainable params: 501,765\n",
      "Non-trainable params: 23,587,712\n",
      "_________________________________________________________________\n"
     ]
    }
   ],
   "source": [
    "## 첫번째 시도 모델 결과 확인\n",
    "'''\n",
    "resnet50 \n",
    "lr : 0.01\n",
    "batch : 24\n",
    "epoch : 100\n",
    "=> test acc :  0.63\n",
    "\n",
    "data : 구글, 네이버 한글 검색 \n",
    "'''\n",
    "# 저장된 모델 불러오기\n",
    "model_path = os.path.join(cur_dir, model_dir)\n",
    "file_name = 'resnet50(0505)_Normal_lr0.0001_ba56_ep100.h5'\n",
    "model_file = os.path.join(model_path,file_name)\n",
    "\n",
    "new_model = keras.models.load_model(model_file)\n",
    "new_model.summary()"
   ]
  },
  {
   "cell_type": "code",
   "execution_count": 38,
   "id": "3bea1b0e",
   "metadata": {},
   "outputs": [],
   "source": [
    "history = pickle.load(open('./save_model/resnet50(0419)_Normal_lr0.0001_ba24_ep100-history', \"rb\"))"
   ]
  },
  {
   "cell_type": "code",
   "execution_count": 40,
   "id": "b8fd3f57",
   "metadata": {},
   "outputs": [
    {
     "data": {
      "image/png": "[encoded data removed]",
      "text/plain": [
       "<Figure size 432x288 with 1 Axes>"
      ]
     },
     "metadata": {
      "needs_background": "light"
     },
     "output_type": "display_data"
    },
    {
     "data": {
      "image/png": "[encoded data removed]",
      "text/plain": [
       "<Figure size 432x288 with 1 Axes>"
      ]
     },
     "metadata": {
      "needs_background": "light"
     },
     "output_type": "display_data"
    }
   ],
   "source": [
    "acc = history.history['acc']\n",
    "val_acc = history.history['val_acc']\n",
    "loss = history.history['loss']\n",
    "val_loss = history.history['val_loss']\n",
    "\n",
    "epochs = range(1,len(acc) + 1)\n",
    "\n",
    "plt.plot(epochs, acc, 'r', label= 'Training acc')\n",
    "plt.plot(epochs, val_acc, 'b', label= 'Validation acc')\n",
    "plt.title('TRAINING AND VALIDATION ACCURACY')\n",
    "plt.legend()\n",
    "\n",
    "plt.figure()\n",
    "\n",
    "plt.plot(epochs, loss, label = 'Training loss')\n",
    "plt.plot(epochs, val_loss, label = 'Validation loss')\n",
    "plt.title('TRAINING AND VALIDATION LOSS')\n",
    "plt.legend()\n",
    "\n",
    "plt.show()"
   ]
  },
  {
   "cell_type": "code",
   "execution_count": 42,
   "id": "733e0246",
   "metadata": {},
   "outputs": [
    {
     "name": "stdout",
     "output_type": "stream",
     "text": [
      "Found 964 images belonging to 5 classes.\n"
     ]
    },
    {
     "name": "stderr",
     "output_type": "stream",
     "text": [
      "/var/folders/n_/n7h63p7n0p94s4q0cjjkgtl40000gn/T/ipykernel_1081/283583462.py:6: UserWarning: `Model.evaluate_generator` is deprecated and will be removed in a future version. Please use `Model.evaluate`, which supports generators.\n",
      "  test_loss, test_acc = new_model.evaluate_generator(test_generator,steps=50)\n",
      "2022-05-18 11:09:43.651930: I tensorflow/core/grappler/optimizers/custom_graph_optimizer_registry.cc:113] Plugin optimizer for device_type GPU is enabled.\n"
     ]
    },
    {
     "name": "stdout",
     "output_type": "stream",
     "text": [
      "WARNING:tensorflow:Your input ran out of data; interrupting training. Make sure that your dataset or generator can generate at least `steps_per_epoch * epochs` batches (in this case, 50 batches). You may need to use the repeat() function when building your dataset.\n",
      "test acc :  0.8485477566719055\n"
     ]
    }
   ],
   "source": [
    "test_generator = valid_datagan.flow_from_directory(test_dir,\n",
    "                                                target_size = (224,224),\n",
    "                                                batch_size = 24,\n",
    "                                                class_mode = 'categorical')\n",
    "\n",
    "test_loss, test_acc = new_model.evaluate_generator(test_generator,steps=50)\n",
    "print('test acc : ', test_acc)"
   ]
  },
  {
   "cell_type": "code",
   "execution_count": 43,
   "id": "c908d626",
   "metadata": {},
   "outputs": [],
   "source": [
    "# {'geumjeonsoo': 0, 'monstera': 1, 'stuckyi': 2, 'tableyaja': 3, 'yeoincho': 4}"
   ]
  },
  {
   "cell_type": "code",
   "execution_count": 44,
   "id": "837d45f5",
   "metadata": {},
   "outputs": [],
   "source": [
    "file_name = 'save_model/h5/resnet50(0419)_Normal_lr0.0001_ba24_ep100.h5'\n",
    "new_model = keras.models.load_model(file_name)"
   ]
  },
  {
   "cell_type": "code",
   "execution_count": 45,
   "id": "946ee96d",
   "metadata": {},
   "outputs": [],
   "source": [
    "from tensorflow.keras.preprocessing.image import load_img\n",
    "from tensorflow.keras.preprocessing.image import img_to_array\n",
    "import matplotlib.pyplot as plt\n",
    "import numpy as np"
   ]
  },
  {
   "cell_type": "code",
   "execution_count": 47,
   "id": "0fe29083",
   "metadata": {},
   "outputs": [
    {
     "ename": "SyntaxError",
     "evalue": "invalid syntax (1704051278.py, line 7)",
     "output_type": "error",
     "traceback": [
      "\u001b[0;36m  Input \u001b[0;32mIn [47]\u001b[0;36m\u001b[0m\n\u001b[0;31m    filename =\u001b[0m\n\u001b[0m               ^\u001b[0m\n\u001b[0;31mSyntaxError\u001b[0m\u001b[0;31m:\u001b[0m invalid syntax\n"
     ]
    }
   ],
   "source": [
    "# 테스트할 이미지 불러오기\n",
    "img_height = 224\n",
    "img_width = 224\n",
    "\n",
    "label_names = {0 : 'geumjeonsoo', 1 : 'monstera',2 :'stuckyi', 3:'tableyaja', 4:'yeoincho'}\n",
    "\n",
    "filename =  # 이미지 파일 지정\n",
    "original = load_img(filename, target_size = (img_height,img_width))\n",
    "\n",
    "numpy_image = img_to_array(original)\n",
    "plt.imshow(np.uint8(numpy_image))\n",
    "plt.show()\n",
    "print(\"numpy array size : \", numpy_image.shape)\n",
    "image_batch = np.expand_dims(numpy_image , axis = 0)\n",
    "\n",
    "predict = np.argmax(new_model.predict(image_batch))\n",
    "\n",
    "# print(predict)\n",
    "print('결과 : ',label_names[predict])"
   ]
  },
  {
   "cell_type": "code",
   "execution_count": null,
   "id": "cd912e7e",
   "metadata": {},
   "outputs": [],
   "source": []
  }
 ],
 "metadata": {
  "kernelspec": {
   "display_name": "tf3",
   "language": "python",
   "name": "tf3"
  },
  "language_info": {
   "codemirror_mode": {
    "name": "ipython",
    "version": 3
   },
   "file_extension": ".py",
   "mimetype": "text/x-python",
   "name": "python",
   "nbconvert_exporter": "python",
   "pygments_lexer": "ipython3",
   "version": "3.8.13"
  }
 },
 "nbformat": 4,
 "nbformat_minor": 5
}
